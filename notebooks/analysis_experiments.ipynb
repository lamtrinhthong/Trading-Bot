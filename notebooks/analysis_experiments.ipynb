{
 "cells": [
  {
   "cell_type": "code",
   "execution_count": 1,
   "metadata": {},
   "outputs": [],
   "source": [
    "import MetaTrader5 as mt5\n",
    "import matplotlib.pyplot as plt\n",
    "import pytz\n",
    "import sys\n",
    "sys.path.append('C:/thong.lam/python/workspace/trading-assistant/src')\n",
    "\n",
    "from datetime import datetime\n",
    "from api.mt5_service import Mt5Service\n",
    "from analysis.candlestick import Candlestick\n",
    "from analysis.elliott_wave_identifier import ElliottWaveIdentifier"
   ]
  },
  {
   "cell_type": "code",
   "execution_count": 2,
   "metadata": {},
   "outputs": [
    {
     "name": "stdout",
     "output_type": "stream",
     "text": [
      "Connected to Exness-MT5Trial7\n"
     ]
    }
   ],
   "source": [
    "service = Mt5Service(\"Exness-MT5Trial7\", 124880048, \"Trinhthong0?\")\n",
    "service.connect()"
   ]
  },
  {
   "cell_type": "code",
   "execution_count": 3,
   "metadata": {},
   "outputs": [],
   "source": [
    "symbol = \"XAUUSDm\"\n",
    "timeframe = mt5.TIMEFRAME_D1\n",
    "timezone = pytz.timezone(\"Etc/UTC\")\n",
    "date_from = datetime(2023, 3, 8, tzinfo=timezone)\n",
    "date_to = datetime(2023, 5, 4, tzinfo=timezone)"
   ]
  },
  {
   "cell_type": "code",
   "execution_count": 4,
   "metadata": {},
   "outputs": [],
   "source": [
    "data = service.get_data_between_dates(symbol, timeframe, date_from, date_to)"
   ]
  },
  {
   "cell_type": "code",
   "execution_count": 5,
   "metadata": {},
   "outputs": [],
   "source": [
    "# Convert DataFrame to list of Candlestick objects\n",
    "candlesticks = []\n",
    "\n",
    "for index, row in data.iterrows():\n",
    "    timestamp = \"D\"\n",
    "    open_price = row['open']\n",
    "    high_price = row['high']\n",
    "    low_price = row['low']\n",
    "    close_price = row['close']\n",
    "    \n",
    "    candlestick = Candlestick(timestamp, open_price, high_price, low_price, close_price)\n",
    "    candlesticks.append(candlestick)"
   ]
  },
  {
   "cell_type": "code",
   "execution_count": 6,
   "metadata": {},
   "outputs": [],
   "source": [
    "wave_identifier = ElliottWaveIdentifier(candlesticks)\n",
    "waves = wave_identifier.identify_waves()"
   ]
  },
  {
   "cell_type": "code",
   "execution_count": null,
   "metadata": {},
   "outputs": [],
   "source": []
  }
 ],
 "metadata": {
  "kernelspec": {
   "display_name": "Python 3 (ipykernel)",
   "language": "python",
   "name": "python3"
  },
  "language_info": {
   "codemirror_mode": {
    "name": "ipython",
    "version": 3
   },
   "file_extension": ".py",
   "mimetype": "text/x-python",
   "name": "python",
   "nbconvert_exporter": "python",
   "pygments_lexer": "ipython3",
   "version": "3.11.7"
  },
  "vscode": {
   "interpreter": {
    "hash": "11938c6bc6919ae2720b4d5011047913343b08a43b18698fd82dedb0d4417594"
   }
  }
 },
 "nbformat": 4,
 "nbformat_minor": 4
}
